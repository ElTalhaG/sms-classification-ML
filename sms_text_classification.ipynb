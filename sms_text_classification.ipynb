{
  "cells": [
    {
      "cell_type": "code",
      "execution_count": null,
      "metadata": {
        "id": "8RZOuS9LWQvv"
      },
      "outputs": [],
      "source": [
        "# Cell 1\n",
        "# import libraries\n",
        "try:\n",
        "  # %tensorflow_version only exists in Colab.\n",
        "  !pip install tf-nightly\n",
        "except Exception:\n",
        "  pass\n",
        "import tensorflow as tf\n",
        "import pandas as pd\n",
        "from tensorflow import keras\n",
        "!pip install tensorflow-datasets\n",
        "import tensorflow_datasets as tfds\n",
        "import numpy as np\n",
        "import matplotlib.pyplot as plt\n",
        "\n",
        "print(tf.__version__)"
      ]
    },
    {
      "cell_type": "code",
      "execution_count": null,
      "metadata": {
        "id": "lMHwYXHXCar3"
      },
      "outputs": [],
      "source": [
        "# Cell 2\n",
        "# get data files\n",
        "!wget https://cdn.freecodecamp.org/project-data/sms/train-data.tsv\n",
        "!wget https://cdn.freecodecamp.org/project-data/sms/valid-data.tsv\n",
        "\n",
        "train_file_path = \"train-data.tsv\"\n",
        "test_file_path = \"valid-data.tsv\""
      ]
    },
    {
      "cell_type": "code",
      "execution_count": null,
      "metadata": {
        "id": "g_h508FEClxO"
      },
      "outputs": [],
      "source": [
        "# Cell 2a\n",
        "# Load the dataset\n",
        "train_data = pd.read_csv(train_file_path, sep=\"\\t\", header=None, names=[\"label\", \"message\"])\n",
        "test_data = pd.read_csv(test_file_path, sep=\"\\t\", header=None, names=[\"label\", \"message\"])\n",
        "\n",
        "# Display the first few rows\n",
        "print(\"Training Data:\\n\", train_data.head(), \"\\n\")\n",
        "print(\"Test Data:\\n\", test_data.head(), \"\\n\")\n",
        "\n",
        "# Check for missing values\n",
        "print(\"Missing values in training data:\\n\", train_data.isnull().sum(), \"\\n\")\n",
        "print(\"Missing values in test data:\\n\", test_data.isnull().sum(), \"\\n\")\n",
        "\n",
        "# Check class distribution\n",
        "print(\"Class distribution in training data:\\n\", train_data['label'].value_counts(), \"\\n\")\n",
        "print(\"Class distribution in test data:\\n\", test_data['label'].value_counts(), \"\\n\")\n",
        "\n",
        "# Convert labels to numerical values (spam=1, ham=0)\n",
        "train_data['label'] = train_data['label'].map({'ham': 0, 'spam': 1})\n",
        "test_data['label'] = test_data['label'].map({'ham': 0, 'spam': 1})\n"
      ]
    },
    {
      "cell_type": "code",
      "execution_count": null,
      "metadata": {
        "id": "zOMKywn4zReN"
      },
      "outputs": [],
      "source": [
        "# Cell 2b\n",
        "from tensorflow.keras.preprocessing.text import Tokenizer\n",
        "from tensorflow.keras.preprocessing.sequence import pad_sequences\n",
        "\n",
        "# Tokenization parameters\n",
        "vocab_size = 5000  # Number of unique words to keep\n",
        "max_length = 100  # Max words in a message\n",
        "trunc_type = 'post'  # Truncate at the end if too long\n",
        "oov_token = \"<OOV>\"  # Token for unknown words\n",
        "\n",
        "# Initialize tokenizer and fit on training text\n",
        "tokenizer = Tokenizer(num_words=vocab_size, oov_token=oov_token)\n",
        "tokenizer.fit_on_texts(train_data['message'])\n",
        "\n",
        "# Convert text to sequences (numerical representation)\n",
        "train_sequences = tokenizer.texts_to_sequences(train_data['message'])\n",
        "test_sequences = tokenizer.texts_to_sequences(test_data['message'])\n",
        "\n",
        "# Pad sequences to ensure uniform length\n",
        "train_padded = pad_sequences(train_sequences, maxlen=max_length, truncating=trunc_type)\n",
        "test_padded = pad_sequences(test_sequences, maxlen=max_length, truncating=trunc_type)\n",
        "\n",
        "# Convert labels to NumPy arrays\n",
        "train_labels = np.array(train_data['label'])\n",
        "test_labels = np.array(test_data['label'])\n",
        "\n",
        "# Print example of tokenized and padded message\n",
        "print(\"Original message:\", train_data['message'].iloc[0])\n",
        "print(\"Tokenized sequence:\", train_sequences[0])\n",
        "print(\"Padded sequence:\", train_padded[0])\n"
      ]
    },
    {
      "cell_type": "code",
      "source": [
        "# Cell 2c\n",
        "# Build the neural network model\n",
        "model = keras.Sequential([\n",
        "    keras.layers.Embedding(vocab_size, 64, input_length=max_length),  # Word embedding layer\n",
        "    keras.layers.Bidirectional(keras.layers.LSTM(64)),  # LSTM for sequence learning\n",
        "    keras.layers.Dense(32, activation='relu'),  # Fully connected layer\n",
        "    keras.layers.Dense(1, activation='sigmoid')  # Output layer for binary classification\n",
        "])\n",
        "\n",
        "# Compile the model\n",
        "model.compile(loss='binary_crossentropy',\n",
        "              optimizer='adam',\n",
        "              metrics=['accuracy'])\n",
        "\n",
        "# Train the model\n",
        "history = model.fit(train_padded, train_labels, epochs=10, validation_data=(test_padded, test_labels), verbose=1)\n",
        "\n",
        "# Display training summary\n",
        "print(\"\\nTraining complete!\")\n"
      ],
      "metadata": {
        "id": "skp_b0-UjiMs"
      },
      "execution_count": null,
      "outputs": []
    },
    {
      "cell_type": "code",
      "execution_count": null,
      "metadata": {
        "id": "J9tD9yACG6M9"
      },
      "outputs": [],
      "source": [
        "# Cell 3\n",
        "# Function to predict messages based on model\n",
        "# (should return a list containing prediction probability and label, e.g., [0.0083, 'ham'])\n",
        "\n",
        "def predict_message(pred_text):\n",
        "    # Convert text to sequence\n",
        "    sequence = tokenizer.texts_to_sequences([pred_text])\n",
        "\n",
        "    # Pad the sequence to match model input shape\n",
        "    padded_sequence = pad_sequences(sequence, maxlen=max_length, truncating=trunc_type)\n",
        "\n",
        "    # Predict spam probability\n",
        "    prediction = model.predict(padded_sequence)[0][0]\n",
        "\n",
        "    # Assign label based on threshold (0.5)\n",
        "    label = \"spam\" if prediction >= 0.5 else \"ham\"\n",
        "\n",
        "    return [float(prediction), label]\n",
        "\n",
        "# Test the function\n",
        "pred_text = \"how are you doing today?\"\n",
        "prediction = predict_message(pred_text)\n",
        "print(prediction)\n"
      ]
    },
    {
      "cell_type": "code",
      "execution_count": null,
      "metadata": {
        "id": "Dxotov85SjsC"
      },
      "outputs": [],
      "source": [
        "# Cell 4\n",
        "# Run this cell to test your function and model. Do not modify contents.\n",
        "def test_predictions():\n",
        "  test_messages = [\"how are you doing today\",\n",
        "                   \"sale today! to stop texts call 98912460324\",\n",
        "                   \"i dont want to go. can we try it a different day? available sat\",\n",
        "                   \"our new mobile video service is live. just install on your phone to start watching.\",\n",
        "                   \"you have won £1000 cash! call to claim your prize.\",\n",
        "                   \"i'll bring it tomorrow. don't forget the milk.\",\n",
        "                   \"wow, is your arm alright. that happened to me one time too\"\n",
        "                  ]\n",
        "\n",
        "  test_answers = [\"ham\", \"spam\", \"ham\", \"spam\", \"spam\", \"ham\", \"ham\"]\n",
        "  passed = True\n",
        "\n",
        "  for msg, ans in zip(test_messages, test_answers):\n",
        "    prediction = predict_message(msg)\n",
        "    if prediction[1] != ans:\n",
        "      passed = False\n",
        "\n",
        "  if passed:\n",
        "    print(\"You passed the challenge. Great job!\")\n",
        "  else:\n",
        "    print(\"You haven't passed yet. Keep trying.\")\n",
        "\n",
        "test_predictions()\n"
      ]
    }
  ],
  "metadata": {
    "colab": {
      "private_outputs": true,
      "provenance": []
    },
    "kernelspec": {
      "display_name": "Python 3",
      "name": "python3"
    },
    "language_info": {}
  },
  "nbformat": 4,
  "nbformat_minor": 0
}